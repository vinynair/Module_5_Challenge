{
 "cells": [
  {
   "cell_type": "markdown",
   "metadata": {},
   "source": [
    "# Financial Planning with APIs and Simulations\n",
    "\n",
    "In this Challenge, you’ll create two financial analysis tools by using a single Jupyter notebook:\n",
    "\n",
    "Part 1: A financial planner for emergencies. The members will be able to use this tool to visualize their current savings. The members can then determine if they have enough reserves for an emergency fund.\n",
    "\n",
    "Part 2: A financial planner for retirement. This tool will forecast the performance of their retirement portfolio in 30 years. To do this, the tool will make an Alpaca API call via the Alpaca SDK to get historical price data for use in Monte Carlo simulations.\n",
    "\n",
    "You’ll use the information from the Monte Carlo simulation to answer questions about the portfolio in your Jupyter notebook.\n",
    "\n"
   ]
  },
  {
   "cell_type": "code",
   "execution_count": 148,
   "metadata": {},
   "outputs": [],
   "source": [
    "# Import the required libraries and dependencies\n",
    "import os\n",
    "import requests\n",
    "import json\n",
    "import pandas as pd\n",
    "from dotenv import load_dotenv\n",
    "import alpaca_trade_api as tradeapi\n",
    "from MCForecastTools import MCSimulation\n",
    "\n",
    "%matplotlib inline"
   ]
  },
  {
   "cell_type": "code",
   "execution_count": 149,
   "metadata": {},
   "outputs": [
    {
     "data": {
      "text/plain": [
       "True"
      ]
     },
     "execution_count": 149,
     "metadata": {},
     "output_type": "execute_result"
    }
   ],
   "source": [
    "# Load the environment variables from the .env file\n",
    "#by calling the load_dotenv function\n",
    "load_dotenv()"
   ]
  },
  {
   "cell_type": "markdown",
   "metadata": {},
   "source": [
    "## Part 1: Create a Financial Planner for Emergencies"
   ]
  },
  {
   "cell_type": "markdown",
   "metadata": {},
   "source": [
    "### Evaluate the Cryptocurrency Wallet by Using the Requests Library\n",
    "\n",
    "In this section, you’ll determine the current value of a member’s cryptocurrency wallet. You’ll collect the current prices for the Bitcoin and Ethereum cryptocurrencies by using the Python Requests library. For the prototype, you’ll assume that the member holds the 1.2 Bitcoins (BTC) and 5.3 Ethereum coins (ETH). To do all this, complete the following steps:\n",
    "\n",
    "1. Create a variable named `monthly_income`, and set its value to `12000`.\n",
    "\n",
    "2. Use the Requests library to get the current price (in US dollars) of Bitcoin (BTC) and Ethereum (ETH) by using the API endpoints that the starter code supplies.\n",
    "\n",
    "3. Navigate the JSON response object to access the current price of each coin, and store each in a variable.\n",
    "\n",
    "    > **Hint** Note the specific identifier for each cryptocurrency in the API JSON response. The Bitcoin identifier is `1`, and the Ethereum identifier is `1027`.\n",
    "\n",
    "4. Calculate the value, in US dollars, of the current amount of each cryptocurrency and of the entire cryptocurrency wallet.\n",
    "\n"
   ]
  },
  {
   "cell_type": "code",
   "execution_count": 150,
   "metadata": {},
   "outputs": [],
   "source": [
    "# The current number of coins for each cryptocurrency asset held in the portfolio.\n",
    "btc_coins = 1.2\n",
    "eth_coins = 5.3"
   ]
  },
  {
   "cell_type": "markdown",
   "metadata": {},
   "source": [
    "#### Step 1: Create a variable named `monthly_income`, and set its value to `12000`."
   ]
  },
  {
   "cell_type": "code",
   "execution_count": 151,
   "metadata": {},
   "outputs": [],
   "source": [
    "# The monthly amount for the member's household income\n",
    "monthly_income = 12000\n"
   ]
  },
  {
   "cell_type": "markdown",
   "metadata": {},
   "source": [
    "#### Review the endpoint URLs for the API calls to Free Crypto API in order to get the current pricing information for both BTC and ETH."
   ]
  },
  {
   "cell_type": "code",
   "execution_count": 152,
   "metadata": {},
   "outputs": [],
   "source": [
    "# The Free Crypto API Call endpoint URLs for the held cryptocurrency assets\n",
    "btc_url = \"https://api.alternative.me/v2/ticker/Bitcoin/?convert=USD\"\n",
    "eth_url = \"https://api.alternative.me/v2/ticker/Ethereum/?convert=USD\""
   ]
  },
  {
   "cell_type": "markdown",
   "metadata": {},
   "source": [
    "#### Step 2. Use the Requests library to get the current price (in US dollars) of Bitcoin (BTC) and Ethereum (ETH) by using the API endpoints that the starter code supplied."
   ]
  },
  {
   "cell_type": "code",
   "execution_count": 153,
   "metadata": {},
   "outputs": [
    {
     "name": "stdout",
     "output_type": "stream",
     "text": [
      "{\n",
      "  \"data\": {\n",
      "    \"1\": {\n",
      "      \"circulating_supply\": 18819468,\n",
      "      \"id\": 1,\n",
      "      \"last_updated\": 1631980177,\n",
      "      \"max_supply\": 21000000,\n",
      "      \"name\": \"Bitcoin\",\n",
      "      \"quotes\": {\n",
      "        \"USD\": {\n",
      "          \"market_cap\": 914707767797,\n",
      "          \"percent_change_1h\": 0.256191387208381,\n",
      "          \"percent_change_24h\": 1.80518503214098,\n",
      "          \"percent_change_7d\": 8.32328270415813,\n",
      "          \"percentage_change_1h\": 0.256191387208381,\n",
      "          \"percentage_change_24h\": 1.80518503214098,\n",
      "          \"percentage_change_7d\": 8.32328270415813,\n",
      "          \"price\": 48532.0,\n",
      "          \"volume_24h\": 28123305152\n",
      "        }\n",
      "      },\n",
      "      \"rank\": 1,\n",
      "      \"symbol\": \"BTC\",\n",
      "      \"total_supply\": 18819468,\n",
      "      \"website_slug\": \"bitcoin\"\n",
      "    }\n",
      "  },\n",
      "  \"metadata\": {\n",
      "    \"error\": null,\n",
      "    \"num_cryptocurrencies\": 3105,\n",
      "    \"timestamp\": 1631980177\n",
      "  }\n",
      "}\n"
     ]
    }
   ],
   "source": [
    "# Using the Python requests library, make an API call to access the current price of BTC\n",
    "btc_response = requests.get(btc_url).json()\n",
    "\n",
    "# Use the json.dumps function to review the response data from the API call\n",
    "# Use the indent and sort_keys parameters to make the response object readable\n",
    "print(json.dumps(btc_response, indent=2, sort_keys=True))\n"
   ]
  },
  {
   "cell_type": "code",
   "execution_count": 154,
   "metadata": {},
   "outputs": [
    {
     "name": "stdout",
     "output_type": "stream",
     "text": [
      "{\n",
      "    \"data\": {\n",
      "        \"1027\": {\n",
      "            \"circulating_supply\": 117575782,\n",
      "            \"id\": 1027,\n",
      "            \"last_updated\": 1631980177,\n",
      "            \"max_supply\": 0,\n",
      "            \"name\": \"Ethereum\",\n",
      "            \"quotes\": {\n",
      "                \"USD\": {\n",
      "                    \"market_cap\": 410180986681,\n",
      "                    \"percent_change_1h\": 0.137993220317121,\n",
      "                    \"percent_change_24h\": 0.69357177047842,\n",
      "                    \"percent_change_7d\": 8.48815932039092,\n",
      "                    \"percentage_change_1h\": 0.137993220317121,\n",
      "                    \"percentage_change_24h\": 0.69357177047842,\n",
      "                    \"percentage_change_7d\": 8.48815932039092,\n",
      "                    \"price\": 3482.38,\n",
      "                    \"volume_24h\": 17319993703\n",
      "                }\n",
      "            },\n",
      "            \"rank\": 2,\n",
      "            \"symbol\": \"ETH\",\n",
      "            \"total_supply\": 117575782,\n",
      "            \"website_slug\": \"ethereum\"\n",
      "        }\n",
      "    },\n",
      "    \"metadata\": {\n",
      "        \"error\": null,\n",
      "        \"num_cryptocurrencies\": 3105,\n",
      "        \"timestamp\": 1631980177\n",
      "    }\n",
      "}\n"
     ]
    }
   ],
   "source": [
    "# Using the Python requests library, make an API call to access the current price ETH\n",
    "eth_response = requests.get(eth_url).json()\n",
    "\n",
    "# Use the json.dumps function to review the response data from the API call\n",
    "# Use the indent and sort_keys parameters to make the response object readable\n",
    "print(json.dumps(eth_response, indent=4, sort_keys=True))\n"
   ]
  },
  {
   "cell_type": "markdown",
   "metadata": {},
   "source": [
    "#### Step 3: Navigate the JSON response object to access the current price of each coin, and store each in a variable."
   ]
  },
  {
   "cell_type": "code",
   "execution_count": 155,
   "metadata": {},
   "outputs": [
    {
     "name": "stdout",
     "output_type": "stream",
     "text": [
      "48532.0\n"
     ]
    }
   ],
   "source": [
    "# Navigate the BTC response object to access the current price of BTC\n",
    "btc_price = btc_response[\"data\"][\"1\"][\"quotes\"][\"USD\"][\"price\"]\n",
    "\n",
    "# Print the current price of BTC\n",
    "print(btc_price)\n"
   ]
  },
  {
   "cell_type": "code",
   "execution_count": 156,
   "metadata": {},
   "outputs": [
    {
     "name": "stdout",
     "output_type": "stream",
     "text": [
      "3482.38\n"
     ]
    }
   ],
   "source": [
    "# Navigate the BTC response object to access the current price of ETH\n",
    "eth_price = eth_response[\"data\"][\"1027\"][\"quotes\"][\"USD\"][\"price\"]\n",
    "\n",
    "# Print the current price of ETH\n",
    "print(eth_price)\n"
   ]
  },
  {
   "cell_type": "markdown",
   "metadata": {},
   "source": [
    "### Step 4: Calculate the value, in US dollars, of the current amount of each cryptocurrency and of the entire cryptocurrency wallet."
   ]
  },
  {
   "cell_type": "code",
   "execution_count": 157,
   "metadata": {},
   "outputs": [
    {
     "name": "stdout",
     "output_type": "stream",
     "text": [
      "58238.4\n"
     ]
    }
   ],
   "source": [
    "# Compute the current value of the BTC holding \n",
    "btc_value = btc_coins * btc_price\n",
    "\n",
    "# Print current value of your holding in BTC\n",
    "print(btc_value)\n"
   ]
  },
  {
   "cell_type": "code",
   "execution_count": 158,
   "metadata": {},
   "outputs": [
    {
     "name": "stdout",
     "output_type": "stream",
     "text": [
      "18456.614\n"
     ]
    }
   ],
   "source": [
    "# Compute the current value of the ETH holding \n",
    "eth_value = eth_coins * eth_price\n",
    "# Print current value of your holding in ETH\n",
    "print(eth_value)\n"
   ]
  },
  {
   "cell_type": "code",
   "execution_count": 159,
   "metadata": {},
   "outputs": [
    {
     "name": "stdout",
     "output_type": "stream",
     "text": [
      "76695.014\n"
     ]
    }
   ],
   "source": [
    "# Compute the total value of the cryptocurrency wallet\n",
    "# Add the value of the BTC holding to the value of the ETH holding\n",
    "total_crypto_wallet = btc_value + eth_value\n",
    "\n",
    "# Print current cryptocurrency wallet balance\n",
    "print(total_crypto_wallet)\n"
   ]
  },
  {
   "cell_type": "markdown",
   "metadata": {},
   "source": [
    "### Evaluate the Stock and Bond Holdings by Using the Alpaca SDK\n",
    "\n",
    "In this section, you’ll determine the current value of a member’s stock and bond holdings. You’ll make an API call to Alpaca via the Alpaca SDK to get the current closing prices of the SPDR S&P 500 ETF Trust (ticker: SPY) and of the iShares Core US Aggregate Bond ETF (ticker: AGG). For the prototype, assume that the member holds 110 shares of SPY, which represents the stock portion of their portfolio, and 200 shares of AGG, which represents the bond portion. To do all this, complete the following steps:\n",
    "\n",
    "1. In the `Starter_Code` folder, create an environment file (`.env`) to store the values of your Alpaca API key and Alpaca secret key.\n",
    "\n",
    "2. Set the variables for the Alpaca API and secret keys. Using the Alpaca SDK, create the Alpaca `tradeapi.REST` object. In this object, include the parameters for the Alpaca API key, the secret key, and the version number.\n",
    "\n",
    "3. Set the following parameters for the Alpaca API call:\n",
    "\n",
    "    - `tickers`: Use the tickers for the member’s stock and bond holdings.\n",
    "\n",
    "    - `timeframe`: Use a time frame of one day.\n",
    "\n",
    "    - `start_date` and `end_date`: Use the same date for these parameters, and format them with the date of the previous weekday (or `2020-08-07`). This is because you want the one closing price for the most-recent trading day.\n",
    "\n",
    "4. Get the current closing prices for `SPY` and `AGG` by using the Alpaca `get_barset` function. Format the response as a Pandas DataFrame by including the `df` property at the end of the `get_barset` function.\n",
    "\n",
    "5. Navigating the Alpaca response DataFrame, select the `SPY` and `AGG` closing prices, and store them as variables.\n",
    "\n",
    "6. Calculate the value, in US dollars, of the current amount of shares in each of the stock and bond portions of the portfolio, and print the results.\n"
   ]
  },
  {
   "cell_type": "markdown",
   "metadata": {},
   "source": [
    "#### Review the total number of shares held in both (SPY) and (AGG)."
   ]
  },
  {
   "cell_type": "code",
   "execution_count": 160,
   "metadata": {},
   "outputs": [],
   "source": [
    "# Current amount of shares held in both the stock (SPY) and bond (AGG) portion of the portfolio.\n",
    "spy_shares = 110\n",
    "agg_shares = 200\n"
   ]
  },
  {
   "cell_type": "markdown",
   "metadata": {},
   "source": [
    "#### Step 1: In the `Starter_Code` folder, create an environment file (`.env`) to store the values of your Alpaca API key and Alpaca secret key."
   ]
  },
  {
   "cell_type": "markdown",
   "metadata": {},
   "source": [
    "#### Step 2: Set the variables for the Alpaca API and secret keys. Using the Alpaca SDK, create the Alpaca `tradeapi.REST` object. In this object, include the parameters for the Alpaca API key, the secret key, and the version number."
   ]
  },
  {
   "cell_type": "code",
   "execution_count": 161,
   "metadata": {},
   "outputs": [],
   "source": [
    "# Set the variables for the Alpaca API and secret keys\n",
    "alpaca_api_key = os.getenv(\"ALPACA_API_KEY\")\n",
    "alpaca_secret_key = os.getenv(\"ALPACA_SECRET_KEY\")\n",
    "\n",
    "# Create the Alpaca tradeapi.REST object\n",
    "alpaca = tradeapi.REST(\n",
    "    alpaca_api_key,\n",
    "    alpaca_secret_key,\n",
    "    api_version=\"v2\")\n"
   ]
  },
  {
   "cell_type": "markdown",
   "metadata": {},
   "source": [
    "#### Step 3: Set the following parameters for the Alpaca API call:\n",
    "\n",
    "- `tickers`: Use the tickers for the member’s stock and bond holdings.\n",
    "\n",
    "- `timeframe`: Use a time frame of one day.\n",
    "\n",
    "- `start_date` and `end_date`: Use the same date for these parameters, and format them with the date of the previous weekday (or `2020-08-07`). This is because you want the one closing price for the most-recent trading day.\n"
   ]
  },
  {
   "cell_type": "code",
   "execution_count": 162,
   "metadata": {},
   "outputs": [],
   "source": [
    "# Set the tickers for both the bond and stock portion of the portfolio\n",
    "tickers = [\"SPY\", \"AGG\"]\n",
    "\n",
    "# Set timeframe to 1D \n",
    "timeframe = \"1D\"\n",
    "\n",
    "# Format current date as ISO format\n",
    "# Set both the start and end date at the date of your prior weekday \n",
    "# This will give you the closing price of the previous trading day\n",
    "# Alternatively you can use a start and end date of 2020-08-07\n",
    "current_date = pd.Timestamp(\"2020-09-15\", tz=\"America/New_York\").isoformat()\n",
    "start_date = pd.Timestamp(\"2020-09-14\", tz=\"America/New_York\").isoformat()\n",
    "end_date = pd.Timestamp(\"2020-09-14\", tz=\"America/New_York\").isoformat()\n"
   ]
  },
  {
   "cell_type": "markdown",
   "metadata": {},
   "source": [
    "#### Step 4: Get the current closing prices for `SPY` and `AGG` by using the Alpaca `get_barset` function. Format the response as a Pandas DataFrame by including the `df` property at the end of the `get_barset` function."
   ]
  },
  {
   "cell_type": "code",
   "execution_count": 163,
   "metadata": {},
   "outputs": [
    {
     "data": {
      "text/html": [
       "<div>\n",
       "<style scoped>\n",
       "    .dataframe tbody tr th:only-of-type {\n",
       "        vertical-align: middle;\n",
       "    }\n",
       "\n",
       "    .dataframe tbody tr th {\n",
       "        vertical-align: top;\n",
       "    }\n",
       "\n",
       "    .dataframe thead tr th {\n",
       "        text-align: left;\n",
       "    }\n",
       "\n",
       "    .dataframe thead tr:last-of-type th {\n",
       "        text-align: right;\n",
       "    }\n",
       "</style>\n",
       "<table border=\"1\" class=\"dataframe\">\n",
       "  <thead>\n",
       "    <tr>\n",
       "      <th></th>\n",
       "      <th colspan=\"5\" halign=\"left\">AGG</th>\n",
       "      <th colspan=\"5\" halign=\"left\">SPY</th>\n",
       "    </tr>\n",
       "    <tr>\n",
       "      <th></th>\n",
       "      <th>open</th>\n",
       "      <th>high</th>\n",
       "      <th>low</th>\n",
       "      <th>close</th>\n",
       "      <th>volume</th>\n",
       "      <th>open</th>\n",
       "      <th>high</th>\n",
       "      <th>low</th>\n",
       "      <th>close</th>\n",
       "      <th>volume</th>\n",
       "    </tr>\n",
       "    <tr>\n",
       "      <th>time</th>\n",
       "      <th></th>\n",
       "      <th></th>\n",
       "      <th></th>\n",
       "      <th></th>\n",
       "      <th></th>\n",
       "      <th></th>\n",
       "      <th></th>\n",
       "      <th></th>\n",
       "      <th></th>\n",
       "      <th></th>\n",
       "    </tr>\n",
       "  </thead>\n",
       "  <tbody>\n",
       "    <tr>\n",
       "      <th>2020-09-14 00:00:00-04:00</th>\n",
       "      <td>118.47</td>\n",
       "      <td>118.49</td>\n",
       "      <td>118.31</td>\n",
       "      <td>118.37</td>\n",
       "      <td>11222770</td>\n",
       "      <td>337.49</td>\n",
       "      <td>340.38</td>\n",
       "      <td>334.2208</td>\n",
       "      <td>338.42</td>\n",
       "      <td>109684157</td>\n",
       "    </tr>\n",
       "  </tbody>\n",
       "</table>\n",
       "</div>"
      ],
      "text/plain": [
       "                              AGG                                       SPY  \\\n",
       "                             open    high     low   close    volume    open   \n",
       "time                                                                          \n",
       "2020-09-14 00:00:00-04:00  118.47  118.49  118.31  118.37  11222770  337.49   \n",
       "\n",
       "                                                                \n",
       "                             high       low   close     volume  \n",
       "time                                                            \n",
       "2020-09-14 00:00:00-04:00  340.38  334.2208  338.42  109684157  "
      ]
     },
     "execution_count": 163,
     "metadata": {},
     "output_type": "execute_result"
    }
   ],
   "source": [
    "# Use the Alpaca get_barset function to get current closing prices the portfolio\n",
    "# Be sure to set the `df` property after the function to format the response object as a DataFrame\n",
    "df_portfolio = alpaca.get_barset(\n",
    "    tickers,\n",
    "    timeframe,\n",
    "    start = start_date,\n",
    "    end = end_date\n",
    ").df\n",
    "\n",
    "# Review the first 5 rows of the Alpaca DataFrame\n",
    "df_portfolio.head(5)"
   ]
  },
  {
   "cell_type": "markdown",
   "metadata": {},
   "source": [
    "#### Step 5: Navigating the Alpaca response DataFrame, select the `SPY` and `AGG` closing prices, and store them as variables."
   ]
  },
  {
   "cell_type": "code",
   "execution_count": 164,
   "metadata": {},
   "outputs": [
    {
     "name": "stdout",
     "output_type": "stream",
     "text": [
      "118.37\n"
     ]
    }
   ],
   "source": [
    "# Access the closing price for AGG from the Alpaca DataFrame\n",
    "# Converting the value to a floating point number\n",
    "agg_close_price = df_portfolio[\"AGG\"][\"close\"][0]\n",
    "\n",
    "# Print the AGG closing price\n",
    "print(agg_close_price)\n"
   ]
  },
  {
   "cell_type": "code",
   "execution_count": 165,
   "metadata": {},
   "outputs": [
    {
     "name": "stdout",
     "output_type": "stream",
     "text": [
      "338.42\n"
     ]
    }
   ],
   "source": [
    "# Access the closing price for SPY from the Alpaca DataFrame\n",
    "# Converting the value to a floating point number\n",
    "spy_close_price = df_portfolio[\"SPY\"][\"close\"][0]\n",
    "\n",
    "# Print the SPY closing price\n",
    "print(spy_close_price)\n"
   ]
  },
  {
   "cell_type": "markdown",
   "metadata": {},
   "source": [
    "#### Step 6: Calculate the value, in US dollars, of the current amount of shares in each of the stock and bond portions of the portfolio, and print the results."
   ]
  },
  {
   "cell_type": "code",
   "execution_count": 166,
   "metadata": {},
   "outputs": [
    {
     "name": "stdout",
     "output_type": "stream",
     "text": [
      "23674.0\n"
     ]
    }
   ],
   "source": [
    "# Calculate the current value of the bond portion of the portfolio\n",
    "agg_value = agg_shares * agg_close_price\n",
    "\n",
    "# Print the current value of the bond portfolio\n",
    "print(agg_value)"
   ]
  },
  {
   "cell_type": "code",
   "execution_count": 167,
   "metadata": {},
   "outputs": [
    {
     "name": "stdout",
     "output_type": "stream",
     "text": [
      "37226.200000000004\n"
     ]
    }
   ],
   "source": [
    "# Calculate the current value of the stock portion of the portfolio\n",
    "spy_value = spy_shares * spy_close_price\n",
    "# Print the current value of the stock portfolio\n",
    "print(spy_value)\n"
   ]
  },
  {
   "cell_type": "code",
   "execution_count": 168,
   "metadata": {},
   "outputs": [
    {
     "name": "stdout",
     "output_type": "stream",
     "text": [
      "60900.200000000004\n"
     ]
    }
   ],
   "source": [
    "# Calculate the total value of the stock and bond portion of the portfolio\n",
    "total_stocks_bonds = agg_value + spy_value\n",
    "\n",
    "# Print the current balance of the stock and bond portion of the portfolio\n",
    "print(total_stocks_bonds)\n"
   ]
  },
  {
   "cell_type": "code",
   "execution_count": 169,
   "metadata": {},
   "outputs": [
    {
     "name": "stdout",
     "output_type": "stream",
     "text": [
      "137595.214\n"
     ]
    }
   ],
   "source": [
    "# Calculate the total value of the member's entire savings portfolio\n",
    "# Add the value of the cryptocurrency walled to the value of the total stocks and bonds\n",
    "total_portfolio = total_crypto_wallet + total_stocks_bonds\n",
    "\n",
    "# Print current cryptocurrency wallet balance\n",
    "print(total_portfolio)\n"
   ]
  },
  {
   "cell_type": "markdown",
   "metadata": {},
   "source": [
    "### Evaluate the Emergency Fund\n",
    "\n",
    "In this section, you’ll use the valuations for the cryptocurrency wallet and for the stock and bond portions of the portfolio to determine if the credit union member has enough savings to build an emergency fund into their financial plan. To do this, complete the following steps:\n",
    "\n",
    "1. Create a Python list named `savings_data` that has two elements. The first element contains the total value of the cryptocurrency wallet. The second element contains the total value of the stock and bond portions of the portfolio.\n",
    "\n",
    "2. Use the `savings_data` list to create a Pandas DataFrame named `savings_df`, and then display this DataFrame. The function to create the DataFrame should take the following three parameters:\n",
    "\n",
    "    - `savings_data`: Use the list that you just created.\n",
    "\n",
    "    - `columns`: Set this parameter equal to a Python list with a single value called `amount`.\n",
    "\n",
    "    - `index`: Set this parameter equal to a Python list with the values of `crypto` and `stock/bond`.\n",
    "\n",
    "3. Use the `savings_df` DataFrame to plot a pie chart that visualizes the composition of the member’s portfolio. The y-axis of the pie chart uses `amount`. Be sure to add a title.\n",
    "\n",
    "4. Using Python, determine if the current portfolio has enough to create an emergency fund as part of the member’s financial plan. Ideally, an emergency fund should equal to three times the member’s monthly income. To do this, implement the following steps:\n",
    "\n",
    "    1. Create a variable named `emergency_fund_value`, and set it equal to three times the value of the member’s `monthly_income` of $12000. (You set this earlier in Part 1).\n",
    "\n",
    "    2. Create a series of three if statements to determine if the member’s total portfolio is large enough to fund the emergency portfolio:\n",
    "\n",
    "        1. If the total portfolio value is greater than the emergency fund value, display a message congratulating the member for having enough money in this fund.\n",
    "\n",
    "        2. Else if the total portfolio value is equal to the emergency fund value, display a message congratulating the member on reaching this important financial goal.\n",
    "\n",
    "        3. Else the total portfolio is less than the emergency fund value, so display a message showing how many dollars away the member is from reaching the goal. (Subtract the total portfolio value from the emergency fund value.)\n"
   ]
  },
  {
   "cell_type": "markdown",
   "metadata": {},
   "source": [
    "#### Step 1: Create a Python list named `savings_data` that has two elements. The first element contains the total value of the cryptocurrency wallet. The second element contains the total value of the stock and bond portions of the portfolio."
   ]
  },
  {
   "cell_type": "code",
   "execution_count": 170,
   "metadata": {},
   "outputs": [
    {
     "name": "stdout",
     "output_type": "stream",
     "text": [
      "[60900.200000000004, 76695.014]\n"
     ]
    }
   ],
   "source": [
    "# Consolidate financial assets data into a Python list\n",
    "savings_data = [total_stocks_bonds, total_crypto_wallet]\n",
    "\n",
    "# Review the Python list savings_data\n",
    "print(savings_data)\n",
    "    "
   ]
  },
  {
   "cell_type": "markdown",
   "metadata": {},
   "source": [
    "#### Step 2: Use the `savings_data` list to create a Pandas DataFrame named `savings_df`, and then display this DataFrame. The function to create the DataFrame should take the following three parameters:\n",
    "\n",
    "- `savings_data`: Use the list that you just created.\n",
    "\n",
    "- `columns`: Set this parameter equal to a Python list with a single value called `amount`.\n",
    "\n",
    "- `index`: Set this parameter equal to a Python list with the values of `crypto` and `stock/bond`.\n"
   ]
  },
  {
   "cell_type": "code",
   "execution_count": 171,
   "metadata": {},
   "outputs": [
    {
     "data": {
      "text/html": [
       "<div>\n",
       "<style scoped>\n",
       "    .dataframe tbody tr th:only-of-type {\n",
       "        vertical-align: middle;\n",
       "    }\n",
       "\n",
       "    .dataframe tbody tr th {\n",
       "        vertical-align: top;\n",
       "    }\n",
       "\n",
       "    .dataframe thead th {\n",
       "        text-align: right;\n",
       "    }\n",
       "</style>\n",
       "<table border=\"1\" class=\"dataframe\">\n",
       "  <thead>\n",
       "    <tr style=\"text-align: right;\">\n",
       "      <th></th>\n",
       "      <th>amount</th>\n",
       "    </tr>\n",
       "  </thead>\n",
       "  <tbody>\n",
       "    <tr>\n",
       "      <th>crypto</th>\n",
       "      <td>60900.200</td>\n",
       "    </tr>\n",
       "    <tr>\n",
       "      <th>stock/bond</th>\n",
       "      <td>76695.014</td>\n",
       "    </tr>\n",
       "  </tbody>\n",
       "</table>\n",
       "</div>"
      ],
      "text/plain": [
       "               amount\n",
       "crypto      60900.200\n",
       "stock/bond  76695.014"
      ]
     },
     "execution_count": 171,
     "metadata": {},
     "output_type": "execute_result"
    }
   ],
   "source": [
    "# Create a Pandas DataFrame called savings_df \n",
    "savings_data_df = pd.DataFrame(savings_data, columns=[\"amount\"], index=[\"crypto\", \"stock/bond\"])\n",
    "\n",
    "\n",
    "# Display the savings_df DataFrame\n",
    "savings_data_df\n"
   ]
  },
  {
   "cell_type": "markdown",
   "metadata": {},
   "source": [
    "#### Step 3: Use the `savings_df` DataFrame to plot a pie chart that visualizes the composition of the member’s portfolio. The y-axis of the pie chart uses `amount`. Be sure to add a title."
   ]
  },
  {
   "cell_type": "code",
   "execution_count": 172,
   "metadata": {},
   "outputs": [
    {
     "data": {
      "text/plain": [
       "<AxesSubplot:title={'center':'Portfolio Composition'}, ylabel='amount'>"
      ]
     },
     "execution_count": 172,
     "metadata": {},
     "output_type": "execute_result"
    },
    {
     "data": {
      "image/png": "[encoded data removed]",
      "text/plain": [
       "<Figure size 1080x504 with 1 Axes>"
      ]
     },
     "metadata": {},
     "output_type": "display_data"
    }
   ],
   "source": [
    "# Plot the total value of the member's portfolio (crypto and stock/bond) in a pie chart\n",
    "savings_data_df.plot(kind=\"pie\", title=\"Portfolio Composition\", figsize=(15,7), y=\"amount\")\n"
   ]
  },
  {
   "cell_type": "markdown",
   "metadata": {},
   "source": [
    "#### Step 4: Using Python, determine if the current portfolio has enough to create an emergency fund as part of the member’s financial plan. Ideally, an emergency fund should equal to three times the member’s monthly income. To do this, implement the following steps:\n",
    "\n",
    "Step 1. Create a variable named `emergency_fund_value`, and set it equal to three times the value of the member’s `monthly_income` of 12000. (You set this earlier in Part 1).\n",
    "\n",
    "Step 2. Create a series of three if statements to determine if the member’s total portfolio is large enough to fund the emergency portfolio:\n",
    "\n",
    "* If the total portfolio value is greater than the emergency fund value, display a message congratulating the member for having enough money in this fund.\n",
    "\n",
    "* Else if the total portfolio value is equal to the emergency fund value, display a message congratulating the member on reaching this important financial goal.\n",
    "\n",
    "* Else the total portfolio is less than the emergency fund value, so display a message showing how many dollars away the member is from reaching the goal. (Subtract the total portfolio value from the emergency fund value.)\n"
   ]
  },
  {
   "cell_type": "markdown",
   "metadata": {},
   "source": [
    "##### Step 4-1: Create a variable named `emergency_fund_value`, and set it equal to three times the value of the member’s `monthly_income` of 12000. (You set this earlier in Part 1)."
   ]
  },
  {
   "cell_type": "code",
   "execution_count": 173,
   "metadata": {},
   "outputs": [],
   "source": [
    "# Create a variable named emergency_fund_value\n",
    "emergency_fund_value = monthly_income * 3"
   ]
  },
  {
   "cell_type": "markdown",
   "metadata": {},
   "source": [
    "##### Step 4-2: Create a series of three if statements to determine if the member’s total portfolio is large enough to fund the emergency portfolio:\n",
    "\n",
    "* If the total portfolio value is greater than the emergency fund value, display a message congratulating the member for having enough money in this fund.\n",
    "\n",
    "* Else if the total portfolio value is equal to the emergency fund value, display a message congratulating the member on reaching this important financial goal.\n",
    "\n",
    "* Else the total portfolio is less than the emergency fund value, so display a message showing how many dollars away the member is from reaching the goal. (Subtract the total portfolio value from the emergency fund value.)"
   ]
  },
  {
   "cell_type": "code",
   "execution_count": 174,
   "metadata": {},
   "outputs": [
    {
     "name": "stdout",
     "output_type": "stream",
     "text": [
      "Congrats - excess money in the fund.\n"
     ]
    }
   ],
   "source": [
    "# Evaluate the possibility of creating an emergency fund with 3 conditions:\n",
    "if total_portfolio > emergency_fund_value:\n",
    "    print(\"Congrats - excess money in the fund.\")\n",
    "elif total_portfolio == emergency_fund_value:\n",
    "    print(\"Congrats on meeting goal\")\n",
    "else:\n",
    "    short = emergency_fund_value - total_portfolio\n",
    "    print(f\"You are {short} dollars short of your goal\") \n"
   ]
  },
  {
   "cell_type": "markdown",
   "metadata": {},
   "source": [
    "## Part 2: Create a Financial Planner for Retirement"
   ]
  },
  {
   "cell_type": "markdown",
   "metadata": {},
   "source": [
    "### Create the Monte Carlo Simulation\n",
    "\n",
    "In this section, you’ll use the MCForecastTools library to create a Monte Carlo simulation for the member’s savings portfolio. To do this, complete the following steps:\n",
    "\n",
    "1. Make an API call via the Alpaca SDK to get 3 years of historical closing prices for a traditional 60/40 portfolio split: 60% stocks (SPY) and 40% bonds (AGG).\n",
    "\n",
    "2. Run a Monte Carlo simulation of 500 samples and 30 years for the 60/40 portfolio, and then plot the results.The following image shows the overlay line plot resulting from a simulation with these characteristics. However, because a random number generator is used to run each live Monte Carlo simulation, your image will differ slightly from this exact image:\n",
    "\n",
    "![A screenshot depicts the resulting plot.](Images/5-4-monte-carlo-line-plot.png)\n",
    "\n",
    "3. Plot the probability distribution of the Monte Carlo simulation. Plot the probability distribution of the Monte Carlo simulation. The following image shows the histogram plot resulting from a simulation with these characteristics. However, because a random number generator is used to run each live Monte Carlo simulation, your image will differ slightly from this exact image:\n",
    "\n",
    "![A screenshot depicts the histogram plot.](Images/5-4-monte-carlo-histogram.png)\n",
    "\n",
    "4. Generate the summary statistics for the Monte Carlo simulation.\n",
    "\n"
   ]
  },
  {
   "cell_type": "markdown",
   "metadata": {},
   "source": [
    "#### Step 1: Make an API call via the Alpaca SDK to get 3 years of historical closing prices for a traditional 60/40 portfolio split: 60% stocks (SPY) and 40% bonds (AGG)."
   ]
  },
  {
   "cell_type": "code",
   "execution_count": 175,
   "metadata": {},
   "outputs": [],
   "source": [
    "# Set start and end dates of 3 years back from your current date\n",
    "# Alternatively, you can use an end date of 2020-08-07 and work 3 years back from that date \n",
    "start_date = pd.Timestamp(\"2017-09-14\", tz=\"America/New_York\").isoformat()\n",
    "end_date = pd.Timestamp(\"2020-09-14\", tz=\"America/New_York\").isoformat()\n",
    "\n",
    "# Set number of rows to 1000 to retrieve the maximum amount of rows\n",
    "limit_rows = 1000"
   ]
  },
  {
   "cell_type": "code",
   "execution_count": 176,
   "metadata": {},
   "outputs": [
    {
     "data": {
      "text/html": [
       "<div>\n",
       "<style scoped>\n",
       "    .dataframe tbody tr th:only-of-type {\n",
       "        vertical-align: middle;\n",
       "    }\n",
       "\n",
       "    .dataframe tbody tr th {\n",
       "        vertical-align: top;\n",
       "    }\n",
       "\n",
       "    .dataframe thead tr th {\n",
       "        text-align: left;\n",
       "    }\n",
       "\n",
       "    .dataframe thead tr:last-of-type th {\n",
       "        text-align: right;\n",
       "    }\n",
       "</style>\n",
       "<table border=\"1\" class=\"dataframe\">\n",
       "  <thead>\n",
       "    <tr>\n",
       "      <th></th>\n",
       "      <th colspan=\"5\" halign=\"left\">AGG</th>\n",
       "      <th colspan=\"5\" halign=\"left\">SPY</th>\n",
       "    </tr>\n",
       "    <tr>\n",
       "      <th></th>\n",
       "      <th>open</th>\n",
       "      <th>high</th>\n",
       "      <th>low</th>\n",
       "      <th>close</th>\n",
       "      <th>volume</th>\n",
       "      <th>open</th>\n",
       "      <th>high</th>\n",
       "      <th>low</th>\n",
       "      <th>close</th>\n",
       "      <th>volume</th>\n",
       "    </tr>\n",
       "    <tr>\n",
       "      <th>time</th>\n",
       "      <th></th>\n",
       "      <th></th>\n",
       "      <th></th>\n",
       "      <th></th>\n",
       "      <th></th>\n",
       "      <th></th>\n",
       "      <th></th>\n",
       "      <th></th>\n",
       "      <th></th>\n",
       "      <th></th>\n",
       "    </tr>\n",
       "  </thead>\n",
       "  <tbody>\n",
       "    <tr>\n",
       "      <th>2017-09-14 00:00:00-04:00</th>\n",
       "      <td>109.81</td>\n",
       "      <td>109.9700</td>\n",
       "      <td>109.8100</td>\n",
       "      <td>109.93</td>\n",
       "      <td>1485053</td>\n",
       "      <td>249.79</td>\n",
       "      <td>250.32</td>\n",
       "      <td>249.60</td>\n",
       "      <td>250.10</td>\n",
       "      <td>40831958</td>\n",
       "    </tr>\n",
       "    <tr>\n",
       "      <th>2017-09-15 00:00:00-04:00</th>\n",
       "      <td>110.00</td>\n",
       "      <td>110.0400</td>\n",
       "      <td>109.8600</td>\n",
       "      <td>109.92</td>\n",
       "      <td>2638010</td>\n",
       "      <td>248.69</td>\n",
       "      <td>249.29</td>\n",
       "      <td>248.57</td>\n",
       "      <td>249.25</td>\n",
       "      <td>41676476</td>\n",
       "    </tr>\n",
       "    <tr>\n",
       "      <th>2017-09-18 00:00:00-04:00</th>\n",
       "      <td>109.86</td>\n",
       "      <td>109.9000</td>\n",
       "      <td>109.7705</td>\n",
       "      <td>109.85</td>\n",
       "      <td>1621727</td>\n",
       "      <td>249.61</td>\n",
       "      <td>250.12</td>\n",
       "      <td>249.28</td>\n",
       "      <td>249.69</td>\n",
       "      <td>31002452</td>\n",
       "    </tr>\n",
       "    <tr>\n",
       "      <th>2017-09-19 00:00:00-04:00</th>\n",
       "      <td>109.91</td>\n",
       "      <td>109.9100</td>\n",
       "      <td>109.7850</td>\n",
       "      <td>109.82</td>\n",
       "      <td>1220416</td>\n",
       "      <td>250.00</td>\n",
       "      <td>250.07</td>\n",
       "      <td>249.60</td>\n",
       "      <td>249.97</td>\n",
       "      <td>25491201</td>\n",
       "    </tr>\n",
       "    <tr>\n",
       "      <th>2017-09-20 00:00:00-04:00</th>\n",
       "      <td>109.84</td>\n",
       "      <td>109.9194</td>\n",
       "      <td>109.5900</td>\n",
       "      <td>109.70</td>\n",
       "      <td>1216139</td>\n",
       "      <td>250.06</td>\n",
       "      <td>250.19</td>\n",
       "      <td>248.92</td>\n",
       "      <td>250.09</td>\n",
       "      <td>42770537</td>\n",
       "    </tr>\n",
       "  </tbody>\n",
       "</table>\n",
       "</div>"
      ],
      "text/plain": [
       "                              AGG                                       \\\n",
       "                             open      high       low   close   volume   \n",
       "time                                                                     \n",
       "2017-09-14 00:00:00-04:00  109.81  109.9700  109.8100  109.93  1485053   \n",
       "2017-09-15 00:00:00-04:00  110.00  110.0400  109.8600  109.92  2638010   \n",
       "2017-09-18 00:00:00-04:00  109.86  109.9000  109.7705  109.85  1621727   \n",
       "2017-09-19 00:00:00-04:00  109.91  109.9100  109.7850  109.82  1220416   \n",
       "2017-09-20 00:00:00-04:00  109.84  109.9194  109.5900  109.70  1216139   \n",
       "\n",
       "                              SPY                                    \n",
       "                             open    high     low   close    volume  \n",
       "time                                                                 \n",
       "2017-09-14 00:00:00-04:00  249.79  250.32  249.60  250.10  40831958  \n",
       "2017-09-15 00:00:00-04:00  248.69  249.29  248.57  249.25  41676476  \n",
       "2017-09-18 00:00:00-04:00  249.61  250.12  249.28  249.69  31002452  \n",
       "2017-09-19 00:00:00-04:00  250.00  250.07  249.60  249.97  25491201  \n",
       "2017-09-20 00:00:00-04:00  250.06  250.19  248.92  250.09  42770537  "
      ]
     },
     "metadata": {},
     "output_type": "display_data"
    },
    {
     "data": {
      "text/html": [
       "<div>\n",
       "<style scoped>\n",
       "    .dataframe tbody tr th:only-of-type {\n",
       "        vertical-align: middle;\n",
       "    }\n",
       "\n",
       "    .dataframe tbody tr th {\n",
       "        vertical-align: top;\n",
       "    }\n",
       "\n",
       "    .dataframe thead tr th {\n",
       "        text-align: left;\n",
       "    }\n",
       "\n",
       "    .dataframe thead tr:last-of-type th {\n",
       "        text-align: right;\n",
       "    }\n",
       "</style>\n",
       "<table border=\"1\" class=\"dataframe\">\n",
       "  <thead>\n",
       "    <tr>\n",
       "      <th></th>\n",
       "      <th colspan=\"5\" halign=\"left\">AGG</th>\n",
       "      <th colspan=\"5\" halign=\"left\">SPY</th>\n",
       "    </tr>\n",
       "    <tr>\n",
       "      <th></th>\n",
       "      <th>open</th>\n",
       "      <th>high</th>\n",
       "      <th>low</th>\n",
       "      <th>close</th>\n",
       "      <th>volume</th>\n",
       "      <th>open</th>\n",
       "      <th>high</th>\n",
       "      <th>low</th>\n",
       "      <th>close</th>\n",
       "      <th>volume</th>\n",
       "    </tr>\n",
       "    <tr>\n",
       "      <th>time</th>\n",
       "      <th></th>\n",
       "      <th></th>\n",
       "      <th></th>\n",
       "      <th></th>\n",
       "      <th></th>\n",
       "      <th></th>\n",
       "      <th></th>\n",
       "      <th></th>\n",
       "      <th></th>\n",
       "      <th></th>\n",
       "    </tr>\n",
       "  </thead>\n",
       "  <tbody>\n",
       "    <tr>\n",
       "      <th>2020-09-08 00:00:00-04:00</th>\n",
       "      <td>118.34</td>\n",
       "      <td>118.46</td>\n",
       "      <td>118.200</td>\n",
       "      <td>118.23</td>\n",
       "      <td>11938683</td>\n",
       "      <td>336.71</td>\n",
       "      <td>342.64</td>\n",
       "      <td>332.8800</td>\n",
       "      <td>333.26</td>\n",
       "      <td>196953429</td>\n",
       "    </tr>\n",
       "    <tr>\n",
       "      <th>2020-09-09 00:00:00-04:00</th>\n",
       "      <td>118.39</td>\n",
       "      <td>118.39</td>\n",
       "      <td>118.040</td>\n",
       "      <td>118.19</td>\n",
       "      <td>10977908</td>\n",
       "      <td>337.55</td>\n",
       "      <td>342.46</td>\n",
       "      <td>336.6100</td>\n",
       "      <td>339.76</td>\n",
       "      <td>156548054</td>\n",
       "    </tr>\n",
       "    <tr>\n",
       "      <th>2020-09-10 00:00:00-04:00</th>\n",
       "      <td>118.11</td>\n",
       "      <td>118.29</td>\n",
       "      <td>118.015</td>\n",
       "      <td>118.23</td>\n",
       "      <td>8259876</td>\n",
       "      <td>341.57</td>\n",
       "      <td>342.53</td>\n",
       "      <td>332.8500</td>\n",
       "      <td>333.92</td>\n",
       "      <td>150853677</td>\n",
       "    </tr>\n",
       "    <tr>\n",
       "      <th>2020-09-11 00:00:00-04:00</th>\n",
       "      <td>118.42</td>\n",
       "      <td>118.49</td>\n",
       "      <td>118.240</td>\n",
       "      <td>118.36</td>\n",
       "      <td>11853287</td>\n",
       "      <td>335.82</td>\n",
       "      <td>336.97</td>\n",
       "      <td>331.0000</td>\n",
       "      <td>334.08</td>\n",
       "      <td>140223556</td>\n",
       "    </tr>\n",
       "    <tr>\n",
       "      <th>2020-09-14 00:00:00-04:00</th>\n",
       "      <td>118.47</td>\n",
       "      <td>118.49</td>\n",
       "      <td>118.310</td>\n",
       "      <td>118.37</td>\n",
       "      <td>11222770</td>\n",
       "      <td>337.49</td>\n",
       "      <td>340.38</td>\n",
       "      <td>334.2208</td>\n",
       "      <td>338.42</td>\n",
       "      <td>109684157</td>\n",
       "    </tr>\n",
       "  </tbody>\n",
       "</table>\n",
       "</div>"
      ],
      "text/plain": [
       "                              AGG                                        SPY  \\\n",
       "                             open    high      low   close    volume    open   \n",
       "time                                                                           \n",
       "2020-09-08 00:00:00-04:00  118.34  118.46  118.200  118.23  11938683  336.71   \n",
       "2020-09-09 00:00:00-04:00  118.39  118.39  118.040  118.19  10977908  337.55   \n",
       "2020-09-10 00:00:00-04:00  118.11  118.29  118.015  118.23   8259876  341.57   \n",
       "2020-09-11 00:00:00-04:00  118.42  118.49  118.240  118.36  11853287  335.82   \n",
       "2020-09-14 00:00:00-04:00  118.47  118.49  118.310  118.37  11222770  337.49   \n",
       "\n",
       "                                                                \n",
       "                             high       low   close     volume  \n",
       "time                                                            \n",
       "2020-09-08 00:00:00-04:00  342.64  332.8800  333.26  196953429  \n",
       "2020-09-09 00:00:00-04:00  342.46  336.6100  339.76  156548054  \n",
       "2020-09-10 00:00:00-04:00  342.53  332.8500  333.92  150853677  \n",
       "2020-09-11 00:00:00-04:00  336.97  331.0000  334.08  140223556  \n",
       "2020-09-14 00:00:00-04:00  340.38  334.2208  338.42  109684157  "
      ]
     },
     "metadata": {},
     "output_type": "display_data"
    }
   ],
   "source": [
    "# Use the Alpaca get_barset function to make the API call to get the 3 years worth of pricing data\n",
    "# The tickers and timeframe parameters should have been set in Part 1 of this activity \n",
    "# The start and end dates should be updated with the information set above\n",
    "# Remember to add the df property to the end of the call so the response is returned as a DataFrame\n",
    "df_portfolio = alpaca.get_barset(\n",
    "    tickers,\n",
    "    timeframe,\n",
    "    start = start_date,\n",
    "    end = end_date,\n",
    "    limit = limit_rows\n",
    ").df\n",
    "\n",
    "\n",
    "# Display both the first and last five rows of the DataFrame\n",
    "display(df_portfolio.head(5))\n",
    "display(df_portfolio.tail(5))\n"
   ]
  },
  {
   "cell_type": "markdown",
   "metadata": {},
   "source": [
    "#### Step 2: Run a Monte Carlo simulation of 500 samples and 30 years for the 60/40 portfolio, and then plot the results."
   ]
  },
  {
   "cell_type": "code",
   "execution_count": 177,
   "metadata": {},
   "outputs": [
    {
     "data": {
      "text/html": [
       "<div>\n",
       "<style scoped>\n",
       "    .dataframe tbody tr th:only-of-type {\n",
       "        vertical-align: middle;\n",
       "    }\n",
       "\n",
       "    .dataframe tbody tr th {\n",
       "        vertical-align: top;\n",
       "    }\n",
       "\n",
       "    .dataframe thead tr th {\n",
       "        text-align: left;\n",
       "    }\n",
       "\n",
       "    .dataframe thead tr:last-of-type th {\n",
       "        text-align: right;\n",
       "    }\n",
       "</style>\n",
       "<table border=\"1\" class=\"dataframe\">\n",
       "  <thead>\n",
       "    <tr>\n",
       "      <th></th>\n",
       "      <th colspan=\"6\" halign=\"left\">AGG</th>\n",
       "      <th colspan=\"6\" halign=\"left\">SPY</th>\n",
       "    </tr>\n",
       "    <tr>\n",
       "      <th></th>\n",
       "      <th>open</th>\n",
       "      <th>high</th>\n",
       "      <th>low</th>\n",
       "      <th>close</th>\n",
       "      <th>volume</th>\n",
       "      <th>daily_return</th>\n",
       "      <th>open</th>\n",
       "      <th>high</th>\n",
       "      <th>low</th>\n",
       "      <th>close</th>\n",
       "      <th>volume</th>\n",
       "      <th>daily_return</th>\n",
       "    </tr>\n",
       "    <tr>\n",
       "      <th>time</th>\n",
       "      <th></th>\n",
       "      <th></th>\n",
       "      <th></th>\n",
       "      <th></th>\n",
       "      <th></th>\n",
       "      <th></th>\n",
       "      <th></th>\n",
       "      <th></th>\n",
       "      <th></th>\n",
       "      <th></th>\n",
       "      <th></th>\n",
       "      <th></th>\n",
       "    </tr>\n",
       "  </thead>\n",
       "  <tbody>\n",
       "    <tr>\n",
       "      <th>2017-09-14 00:00:00-04:00</th>\n",
       "      <td>109.81</td>\n",
       "      <td>109.9700</td>\n",
       "      <td>109.8100</td>\n",
       "      <td>109.93</td>\n",
       "      <td>1485053</td>\n",
       "      <td>NaN</td>\n",
       "      <td>249.79</td>\n",
       "      <td>250.32</td>\n",
       "      <td>249.60</td>\n",
       "      <td>250.10</td>\n",
       "      <td>40831958</td>\n",
       "      <td>NaN</td>\n",
       "    </tr>\n",
       "    <tr>\n",
       "      <th>2017-09-15 00:00:00-04:00</th>\n",
       "      <td>110.00</td>\n",
       "      <td>110.0400</td>\n",
       "      <td>109.8600</td>\n",
       "      <td>109.92</td>\n",
       "      <td>2638010</td>\n",
       "      <td>-0.000091</td>\n",
       "      <td>248.69</td>\n",
       "      <td>249.29</td>\n",
       "      <td>248.57</td>\n",
       "      <td>249.25</td>\n",
       "      <td>41676476</td>\n",
       "      <td>-0.003399</td>\n",
       "    </tr>\n",
       "    <tr>\n",
       "      <th>2017-09-18 00:00:00-04:00</th>\n",
       "      <td>109.86</td>\n",
       "      <td>109.9000</td>\n",
       "      <td>109.7705</td>\n",
       "      <td>109.85</td>\n",
       "      <td>1621727</td>\n",
       "      <td>-0.000637</td>\n",
       "      <td>249.61</td>\n",
       "      <td>250.12</td>\n",
       "      <td>249.28</td>\n",
       "      <td>249.69</td>\n",
       "      <td>31002452</td>\n",
       "      <td>0.001765</td>\n",
       "    </tr>\n",
       "    <tr>\n",
       "      <th>2017-09-19 00:00:00-04:00</th>\n",
       "      <td>109.91</td>\n",
       "      <td>109.9100</td>\n",
       "      <td>109.7850</td>\n",
       "      <td>109.82</td>\n",
       "      <td>1220416</td>\n",
       "      <td>-0.000273</td>\n",
       "      <td>250.00</td>\n",
       "      <td>250.07</td>\n",
       "      <td>249.60</td>\n",
       "      <td>249.97</td>\n",
       "      <td>25491201</td>\n",
       "      <td>0.001121</td>\n",
       "    </tr>\n",
       "    <tr>\n",
       "      <th>2017-09-20 00:00:00-04:00</th>\n",
       "      <td>109.84</td>\n",
       "      <td>109.9194</td>\n",
       "      <td>109.5900</td>\n",
       "      <td>109.70</td>\n",
       "      <td>1216139</td>\n",
       "      <td>-0.001093</td>\n",
       "      <td>250.06</td>\n",
       "      <td>250.19</td>\n",
       "      <td>248.92</td>\n",
       "      <td>250.09</td>\n",
       "      <td>42770537</td>\n",
       "      <td>0.000480</td>\n",
       "    </tr>\n",
       "  </tbody>\n",
       "</table>\n",
       "</div>"
      ],
      "text/plain": [
       "                              AGG                                       \\\n",
       "                             open      high       low   close   volume   \n",
       "time                                                                     \n",
       "2017-09-14 00:00:00-04:00  109.81  109.9700  109.8100  109.93  1485053   \n",
       "2017-09-15 00:00:00-04:00  110.00  110.0400  109.8600  109.92  2638010   \n",
       "2017-09-18 00:00:00-04:00  109.86  109.9000  109.7705  109.85  1621727   \n",
       "2017-09-19 00:00:00-04:00  109.91  109.9100  109.7850  109.82  1220416   \n",
       "2017-09-20 00:00:00-04:00  109.84  109.9194  109.5900  109.70  1216139   \n",
       "\n",
       "                                           SPY                          \\\n",
       "                          daily_return    open    high     low   close   \n",
       "time                                                                     \n",
       "2017-09-14 00:00:00-04:00          NaN  249.79  250.32  249.60  250.10   \n",
       "2017-09-15 00:00:00-04:00    -0.000091  248.69  249.29  248.57  249.25   \n",
       "2017-09-18 00:00:00-04:00    -0.000637  249.61  250.12  249.28  249.69   \n",
       "2017-09-19 00:00:00-04:00    -0.000273  250.00  250.07  249.60  249.97   \n",
       "2017-09-20 00:00:00-04:00    -0.001093  250.06  250.19  248.92  250.09   \n",
       "\n",
       "                                                  \n",
       "                             volume daily_return  \n",
       "time                                              \n",
       "2017-09-14 00:00:00-04:00  40831958          NaN  \n",
       "2017-09-15 00:00:00-04:00  41676476    -0.003399  \n",
       "2017-09-18 00:00:00-04:00  31002452     0.001765  \n",
       "2017-09-19 00:00:00-04:00  25491201     0.001121  \n",
       "2017-09-20 00:00:00-04:00  42770537     0.000480  "
      ]
     },
     "execution_count": 177,
     "metadata": {},
     "output_type": "execute_result"
    }
   ],
   "source": [
    "# Configure the Monte Carlo simulation to forecast 30 years cumulative returns\n",
    "# The weights should be split 40% to AGG and 60% to SPY.\n",
    "# Run 500 samples.\n",
    "thirty_year_simulation = MCSimulation(\n",
    "    portfolio_data=df_portfolio,\n",
    "    weights=[0.40, 0.60],\n",
    "    num_simulation=500,\n",
    "    num_trading_days=252*30,\n",
    ")\n",
    "\n",
    "# Review the simulation input data\n",
    "thirty_year_simulation.portfolio_data.head()\n"
   ]
  },
  {
   "cell_type": "code",
   "execution_count": 178,
   "metadata": {},
   "outputs": [
    {
     "name": "stdout",
     "output_type": "stream",
     "text": [
      "Running Monte Carlo simulation number 0.\n",
      "Running Monte Carlo simulation number 10.\n",
      "Running Monte Carlo simulation number 20.\n",
      "Running Monte Carlo simulation number 30.\n",
      "Running Monte Carlo simulation number 40.\n",
      "Running Monte Carlo simulation number 50.\n",
      "Running Monte Carlo simulation number 60.\n",
      "Running Monte Carlo simulation number 70.\n",
      "Running Monte Carlo simulation number 80.\n",
      "Running Monte Carlo simulation number 90.\n",
      "Running Monte Carlo simulation number 100.\n",
      "Running Monte Carlo simulation number 110.\n",
      "Running Monte Carlo simulation number 120.\n",
      "Running Monte Carlo simulation number 130.\n",
      "Running Monte Carlo simulation number 140.\n",
      "Running Monte Carlo simulation number 150.\n",
      "Running Monte Carlo simulation number 160.\n",
      "Running Monte Carlo simulation number 170.\n",
      "Running Monte Carlo simulation number 180.\n",
      "Running Monte Carlo simulation number 190.\n",
      "Running Monte Carlo simulation number 200.\n",
      "Running Monte Carlo simulation number 210.\n",
      "Running Monte Carlo simulation number 220.\n",
      "Running Monte Carlo simulation number 230.\n",
      "Running Monte Carlo simulation number 240.\n",
      "Running Monte Carlo simulation number 250.\n",
      "Running Monte Carlo simulation number 260.\n",
      "Running Monte Carlo simulation number 270.\n",
      "Running Monte Carlo simulation number 280.\n",
      "Running Monte Carlo simulation number 290.\n",
      "Running Monte Carlo simulation number 300.\n",
      "Running Monte Carlo simulation number 310.\n",
      "Running Monte Carlo simulation number 320.\n",
      "Running Monte Carlo simulation number 330.\n",
      "Running Monte Carlo simulation number 340.\n",
      "Running Monte Carlo simulation number 350.\n",
      "Running Monte Carlo simulation number 360.\n",
      "Running Monte Carlo simulation number 370.\n",
      "Running Monte Carlo simulation number 380.\n",
      "Running Monte Carlo simulation number 390.\n",
      "Running Monte Carlo simulation number 400.\n",
      "Running Monte Carlo simulation number 410.\n",
      "Running Monte Carlo simulation number 420.\n",
      "Running Monte Carlo simulation number 430.\n",
      "Running Monte Carlo simulation number 440.\n",
      "Running Monte Carlo simulation number 450.\n",
      "Running Monte Carlo simulation number 460.\n",
      "Running Monte Carlo simulation number 470.\n",
      "Running Monte Carlo simulation number 480.\n",
      "Running Monte Carlo simulation number 490.\n"
     ]
    },
    {
     "data": {
      "text/html": [
       "<div>\n",
       "<style scoped>\n",
       "    .dataframe tbody tr th:only-of-type {\n",
       "        vertical-align: middle;\n",
       "    }\n",
       "\n",
       "    .dataframe tbody tr th {\n",
       "        vertical-align: top;\n",
       "    }\n",
       "\n",
       "    .dataframe thead th {\n",
       "        text-align: right;\n",
       "    }\n",
       "</style>\n",
       "<table border=\"1\" class=\"dataframe\">\n",
       "  <thead>\n",
       "    <tr style=\"text-align: right;\">\n",
       "      <th></th>\n",
       "      <th>0</th>\n",
       "      <th>1</th>\n",
       "      <th>2</th>\n",
       "      <th>3</th>\n",
       "      <th>4</th>\n",
       "      <th>5</th>\n",
       "      <th>6</th>\n",
       "      <th>7</th>\n",
       "      <th>8</th>\n",
       "      <th>9</th>\n",
       "      <th>...</th>\n",
       "      <th>490</th>\n",
       "      <th>491</th>\n",
       "      <th>492</th>\n",
       "      <th>493</th>\n",
       "      <th>494</th>\n",
       "      <th>495</th>\n",
       "      <th>496</th>\n",
       "      <th>497</th>\n",
       "      <th>498</th>\n",
       "      <th>499</th>\n",
       "    </tr>\n",
       "  </thead>\n",
       "  <tbody>\n",
       "    <tr>\n",
       "      <th>0</th>\n",
       "      <td>1.000000</td>\n",
       "      <td>1.000000</td>\n",
       "      <td>1.000000</td>\n",
       "      <td>1.000000</td>\n",
       "      <td>1.000000</td>\n",
       "      <td>1.000000</td>\n",
       "      <td>1.000000</td>\n",
       "      <td>1.000000</td>\n",
       "      <td>1.000000</td>\n",
       "      <td>1.000000</td>\n",
       "      <td>...</td>\n",
       "      <td>1.000000</td>\n",
       "      <td>1.000000</td>\n",
       "      <td>1.000000</td>\n",
       "      <td>1.000000</td>\n",
       "      <td>1.000000</td>\n",
       "      <td>1.000000</td>\n",
       "      <td>1.000000</td>\n",
       "      <td>1.000000</td>\n",
       "      <td>1.000000</td>\n",
       "      <td>1.000000</td>\n",
       "    </tr>\n",
       "    <tr>\n",
       "      <th>1</th>\n",
       "      <td>1.001307</td>\n",
       "      <td>1.015114</td>\n",
       "      <td>1.015508</td>\n",
       "      <td>0.996637</td>\n",
       "      <td>1.010136</td>\n",
       "      <td>1.004655</td>\n",
       "      <td>1.014646</td>\n",
       "      <td>1.017049</td>\n",
       "      <td>1.002437</td>\n",
       "      <td>1.010358</td>\n",
       "      <td>...</td>\n",
       "      <td>1.001946</td>\n",
       "      <td>1.002017</td>\n",
       "      <td>0.996386</td>\n",
       "      <td>1.008272</td>\n",
       "      <td>0.991104</td>\n",
       "      <td>1.003054</td>\n",
       "      <td>1.013776</td>\n",
       "      <td>1.009090</td>\n",
       "      <td>1.000733</td>\n",
       "      <td>0.984281</td>\n",
       "    </tr>\n",
       "    <tr>\n",
       "      <th>2</th>\n",
       "      <td>1.008436</td>\n",
       "      <td>1.032214</td>\n",
       "      <td>1.014833</td>\n",
       "      <td>0.993700</td>\n",
       "      <td>1.009382</td>\n",
       "      <td>0.994503</td>\n",
       "      <td>1.005070</td>\n",
       "      <td>1.014887</td>\n",
       "      <td>0.985495</td>\n",
       "      <td>1.016097</td>\n",
       "      <td>...</td>\n",
       "      <td>1.021075</td>\n",
       "      <td>0.997873</td>\n",
       "      <td>1.006771</td>\n",
       "      <td>1.011723</td>\n",
       "      <td>1.006004</td>\n",
       "      <td>1.003501</td>\n",
       "      <td>1.001940</td>\n",
       "      <td>0.993983</td>\n",
       "      <td>1.002332</td>\n",
       "      <td>0.986379</td>\n",
       "    </tr>\n",
       "    <tr>\n",
       "      <th>3</th>\n",
       "      <td>0.989091</td>\n",
       "      <td>1.033614</td>\n",
       "      <td>1.003499</td>\n",
       "      <td>0.994460</td>\n",
       "      <td>0.995861</td>\n",
       "      <td>0.992963</td>\n",
       "      <td>1.013436</td>\n",
       "      <td>1.033828</td>\n",
       "      <td>0.990221</td>\n",
       "      <td>1.022568</td>\n",
       "      <td>...</td>\n",
       "      <td>1.019827</td>\n",
       "      <td>1.009030</td>\n",
       "      <td>1.003068</td>\n",
       "      <td>1.001950</td>\n",
       "      <td>1.012033</td>\n",
       "      <td>1.008539</td>\n",
       "      <td>0.987927</td>\n",
       "      <td>1.007939</td>\n",
       "      <td>1.002733</td>\n",
       "      <td>1.001198</td>\n",
       "    </tr>\n",
       "    <tr>\n",
       "      <th>4</th>\n",
       "      <td>0.984451</td>\n",
       "      <td>1.029864</td>\n",
       "      <td>1.026986</td>\n",
       "      <td>0.981189</td>\n",
       "      <td>0.990504</td>\n",
       "      <td>0.999072</td>\n",
       "      <td>1.017060</td>\n",
       "      <td>1.043903</td>\n",
       "      <td>0.996496</td>\n",
       "      <td>1.015655</td>\n",
       "      <td>...</td>\n",
       "      <td>1.013340</td>\n",
       "      <td>1.014274</td>\n",
       "      <td>0.998078</td>\n",
       "      <td>1.018338</td>\n",
       "      <td>1.020969</td>\n",
       "      <td>0.993554</td>\n",
       "      <td>0.972394</td>\n",
       "      <td>0.997701</td>\n",
       "      <td>0.998792</td>\n",
       "      <td>1.010344</td>\n",
       "    </tr>\n",
       "    <tr>\n",
       "      <th>...</th>\n",
       "      <td>...</td>\n",
       "      <td>...</td>\n",
       "      <td>...</td>\n",
       "      <td>...</td>\n",
       "      <td>...</td>\n",
       "      <td>...</td>\n",
       "      <td>...</td>\n",
       "      <td>...</td>\n",
       "      <td>...</td>\n",
       "      <td>...</td>\n",
       "      <td>...</td>\n",
       "      <td>...</td>\n",
       "      <td>...</td>\n",
       "      <td>...</td>\n",
       "      <td>...</td>\n",
       "      <td>...</td>\n",
       "      <td>...</td>\n",
       "      <td>...</td>\n",
       "      <td>...</td>\n",
       "      <td>...</td>\n",
       "      <td>...</td>\n",
       "    </tr>\n",
       "    <tr>\n",
       "      <th>7556</th>\n",
       "      <td>2.262805</td>\n",
       "      <td>24.377655</td>\n",
       "      <td>9.209703</td>\n",
       "      <td>2.179970</td>\n",
       "      <td>26.550476</td>\n",
       "      <td>10.457884</td>\n",
       "      <td>13.070464</td>\n",
       "      <td>4.461950</td>\n",
       "      <td>16.501048</td>\n",
       "      <td>4.735267</td>\n",
       "      <td>...</td>\n",
       "      <td>38.400199</td>\n",
       "      <td>16.656693</td>\n",
       "      <td>15.960322</td>\n",
       "      <td>8.021323</td>\n",
       "      <td>19.916722</td>\n",
       "      <td>5.223147</td>\n",
       "      <td>9.677554</td>\n",
       "      <td>9.342537</td>\n",
       "      <td>8.096418</td>\n",
       "      <td>25.772004</td>\n",
       "    </tr>\n",
       "    <tr>\n",
       "      <th>7557</th>\n",
       "      <td>2.253020</td>\n",
       "      <td>24.383314</td>\n",
       "      <td>9.091111</td>\n",
       "      <td>2.215712</td>\n",
       "      <td>26.602760</td>\n",
       "      <td>10.597510</td>\n",
       "      <td>13.018351</td>\n",
       "      <td>4.449259</td>\n",
       "      <td>16.441074</td>\n",
       "      <td>4.732078</td>\n",
       "      <td>...</td>\n",
       "      <td>38.735590</td>\n",
       "      <td>16.521073</td>\n",
       "      <td>15.800639</td>\n",
       "      <td>8.087123</td>\n",
       "      <td>19.893900</td>\n",
       "      <td>5.242426</td>\n",
       "      <td>9.612779</td>\n",
       "      <td>9.455353</td>\n",
       "      <td>8.034345</td>\n",
       "      <td>25.374356</td>\n",
       "    </tr>\n",
       "    <tr>\n",
       "      <th>7558</th>\n",
       "      <td>2.223703</td>\n",
       "      <td>24.640706</td>\n",
       "      <td>8.933565</td>\n",
       "      <td>2.231355</td>\n",
       "      <td>26.444978</td>\n",
       "      <td>10.497542</td>\n",
       "      <td>12.786196</td>\n",
       "      <td>4.491759</td>\n",
       "      <td>16.375746</td>\n",
       "      <td>4.696967</td>\n",
       "      <td>...</td>\n",
       "      <td>38.617380</td>\n",
       "      <td>16.705469</td>\n",
       "      <td>15.940240</td>\n",
       "      <td>8.085416</td>\n",
       "      <td>19.774737</td>\n",
       "      <td>5.327185</td>\n",
       "      <td>9.602781</td>\n",
       "      <td>9.336822</td>\n",
       "      <td>8.145110</td>\n",
       "      <td>25.362475</td>\n",
       "    </tr>\n",
       "    <tr>\n",
       "      <th>7559</th>\n",
       "      <td>2.219280</td>\n",
       "      <td>24.930362</td>\n",
       "      <td>8.803609</td>\n",
       "      <td>2.232662</td>\n",
       "      <td>26.483830</td>\n",
       "      <td>10.521855</td>\n",
       "      <td>12.787006</td>\n",
       "      <td>4.537198</td>\n",
       "      <td>16.623342</td>\n",
       "      <td>4.632319</td>\n",
       "      <td>...</td>\n",
       "      <td>38.781664</td>\n",
       "      <td>16.752092</td>\n",
       "      <td>15.948926</td>\n",
       "      <td>8.196333</td>\n",
       "      <td>19.656707</td>\n",
       "      <td>5.297068</td>\n",
       "      <td>9.712260</td>\n",
       "      <td>9.328840</td>\n",
       "      <td>8.100401</td>\n",
       "      <td>25.238085</td>\n",
       "    </tr>\n",
       "    <tr>\n",
       "      <th>7560</th>\n",
       "      <td>2.245496</td>\n",
       "      <td>24.827479</td>\n",
       "      <td>8.886188</td>\n",
       "      <td>2.250700</td>\n",
       "      <td>26.258541</td>\n",
       "      <td>10.463412</td>\n",
       "      <td>12.760556</td>\n",
       "      <td>4.530442</td>\n",
       "      <td>16.651948</td>\n",
       "      <td>4.648790</td>\n",
       "      <td>...</td>\n",
       "      <td>39.284866</td>\n",
       "      <td>16.879794</td>\n",
       "      <td>16.077840</td>\n",
       "      <td>8.267460</td>\n",
       "      <td>19.804128</td>\n",
       "      <td>5.303103</td>\n",
       "      <td>9.776052</td>\n",
       "      <td>9.336707</td>\n",
       "      <td>8.167366</td>\n",
       "      <td>25.389339</td>\n",
       "    </tr>\n",
       "  </tbody>\n",
       "</table>\n",
       "<p>7561 rows × 500 columns</p>\n",
       "</div>"
      ],
      "text/plain": [
       "           0          1         2         3          4          5    \\\n",
       "0     1.000000   1.000000  1.000000  1.000000   1.000000   1.000000   \n",
       "1     1.001307   1.015114  1.015508  0.996637   1.010136   1.004655   \n",
       "2     1.008436   1.032214  1.014833  0.993700   1.009382   0.994503   \n",
       "3     0.989091   1.033614  1.003499  0.994460   0.995861   0.992963   \n",
       "4     0.984451   1.029864  1.026986  0.981189   0.990504   0.999072   \n",
       "...        ...        ...       ...       ...        ...        ...   \n",
       "7556  2.262805  24.377655  9.209703  2.179970  26.550476  10.457884   \n",
       "7557  2.253020  24.383314  9.091111  2.215712  26.602760  10.597510   \n",
       "7558  2.223703  24.640706  8.933565  2.231355  26.444978  10.497542   \n",
       "7559  2.219280  24.930362  8.803609  2.232662  26.483830  10.521855   \n",
       "7560  2.245496  24.827479  8.886188  2.250700  26.258541  10.463412   \n",
       "\n",
       "            6         7          8         9    ...        490        491  \\\n",
       "0      1.000000  1.000000   1.000000  1.000000  ...   1.000000   1.000000   \n",
       "1      1.014646  1.017049   1.002437  1.010358  ...   1.001946   1.002017   \n",
       "2      1.005070  1.014887   0.985495  1.016097  ...   1.021075   0.997873   \n",
       "3      1.013436  1.033828   0.990221  1.022568  ...   1.019827   1.009030   \n",
       "4      1.017060  1.043903   0.996496  1.015655  ...   1.013340   1.014274   \n",
       "...         ...       ...        ...       ...  ...        ...        ...   \n",
       "7556  13.070464  4.461950  16.501048  4.735267  ...  38.400199  16.656693   \n",
       "7557  13.018351  4.449259  16.441074  4.732078  ...  38.735590  16.521073   \n",
       "7558  12.786196  4.491759  16.375746  4.696967  ...  38.617380  16.705469   \n",
       "7559  12.787006  4.537198  16.623342  4.632319  ...  38.781664  16.752092   \n",
       "7560  12.760556  4.530442  16.651948  4.648790  ...  39.284866  16.879794   \n",
       "\n",
       "            492       493        494       495       496       497       498  \\\n",
       "0      1.000000  1.000000   1.000000  1.000000  1.000000  1.000000  1.000000   \n",
       "1      0.996386  1.008272   0.991104  1.003054  1.013776  1.009090  1.000733   \n",
       "2      1.006771  1.011723   1.006004  1.003501  1.001940  0.993983  1.002332   \n",
       "3      1.003068  1.001950   1.012033  1.008539  0.987927  1.007939  1.002733   \n",
       "4      0.998078  1.018338   1.020969  0.993554  0.972394  0.997701  0.998792   \n",
       "...         ...       ...        ...       ...       ...       ...       ...   \n",
       "7556  15.960322  8.021323  19.916722  5.223147  9.677554  9.342537  8.096418   \n",
       "7557  15.800639  8.087123  19.893900  5.242426  9.612779  9.455353  8.034345   \n",
       "7558  15.940240  8.085416  19.774737  5.327185  9.602781  9.336822  8.145110   \n",
       "7559  15.948926  8.196333  19.656707  5.297068  9.712260  9.328840  8.100401   \n",
       "7560  16.077840  8.267460  19.804128  5.303103  9.776052  9.336707  8.167366   \n",
       "\n",
       "            499  \n",
       "0      1.000000  \n",
       "1      0.984281  \n",
       "2      0.986379  \n",
       "3      1.001198  \n",
       "4      1.010344  \n",
       "...         ...  \n",
       "7556  25.772004  \n",
       "7557  25.374356  \n",
       "7558  25.362475  \n",
       "7559  25.238085  \n",
       "7560  25.389339  \n",
       "\n",
       "[7561 rows x 500 columns]"
      ]
     },
     "execution_count": 178,
     "metadata": {},
     "output_type": "execute_result"
    }
   ],
   "source": [
    "# Run the Monte Carlo simulation to forecast 30 years cumulative returns\n",
    "thirty_year_simulation.calc_cumulative_return()\n"
   ]
  },
  {
   "cell_type": "code",
   "execution_count": 179,
   "metadata": {},
   "outputs": [
    {
     "data": {
      "text/plain": [
       "<AxesSubplot:title={'center':'500 Simulations of Cumulative Portfolio Return Trajectories Over the Next 7560 Trading Days.'}>"
      ]
     },
     "execution_count": 179,
     "metadata": {},
     "output_type": "execute_result"
    },
    {
     "data": {
      "image/png": "[encoded data removed]",
      "text/plain": [
       "<Figure size 432x288 with 1 Axes>"
      ]
     },
     "metadata": {
      "needs_background": "light"
     },
     "output_type": "display_data"
    }
   ],
   "source": [
    "# Visualize the 30-year Monte Carlo simulation by creating an\n",
    "# overlay line plot\n",
    "thirty_year_simulation.plot_simulation()\n"
   ]
  },
  {
   "cell_type": "markdown",
   "metadata": {},
   "source": [
    "#### Step 3: Plot the probability distribution of the Monte Carlo simulation."
   ]
  },
  {
   "cell_type": "code",
   "execution_count": 180,
   "metadata": {},
   "outputs": [
    {
     "data": {
      "text/plain": [
       "<AxesSubplot:title={'center':'Distribution of Final Cumuluative Returns Across All 500 Simulations'}, ylabel='Frequency'>"
      ]
     },
     "execution_count": 180,
     "metadata": {},
     "output_type": "execute_result"
    },
    {
     "data": {
      "image/png": "[encoded data removed]",
      "text/plain": [
       "<Figure size 432x288 with 1 Axes>"
      ]
     },
     "metadata": {
      "needs_background": "light"
     },
     "output_type": "display_data"
    }
   ],
   "source": [
    "# Visualize the probability distribution of the 30-year Monte Carlo simulation \n",
    "# by plotting a histogram\n",
    "thirty_year_simulation.plot_distribution()\n"
   ]
  },
  {
   "cell_type": "markdown",
   "metadata": {},
   "source": [
    "#### Step 4: Generate the summary statistics for the Monte Carlo simulation."
   ]
  },
  {
   "cell_type": "code",
   "execution_count": 181,
   "metadata": {},
   "outputs": [
    {
     "name": "stdout",
     "output_type": "stream",
     "text": [
      "count           500.000000\n",
      "mean             13.727438\n",
      "std              12.911649\n",
      "min               0.559269\n",
      "25%               5.761110\n",
      "50%              10.131455\n",
      "75%              17.576311\n",
      "max             149.090984\n",
      "95% CI Lower      2.324183\n",
      "95% CI Upper     40.660904\n",
      "Name: 7560, dtype: float64\n"
     ]
    }
   ],
   "source": [
    "# Generate summary statistics from the 30-year Monte Carlo simulation results\n",
    "# Save the results as a variable\n",
    "summary_stats = thirty_year_simulation.summarize_cumulative_return()\n",
    "\n",
    "\n",
    "# Review the 30-year Monte Carlo summary statistics\n",
    "print(summary_stats)"
   ]
  },
  {
   "cell_type": "markdown",
   "metadata": {},
   "source": [
    "### Analyze the Retirement Portfolio Forecasts\n",
    "\n",
    "Using the current value of only the stock and bond portion of the member's portfolio and the summary statistics that you generated from the Monte Carlo simulation, answer the following question in your Jupyter notebook:\n",
    "\n",
    "-  What are the lower and upper bounds for the expected value of the portfolio with a 95% confidence interval?\n"
   ]
  },
  {
   "cell_type": "code",
   "execution_count": 182,
   "metadata": {},
   "outputs": [
    {
     "name": "stdout",
     "output_type": "stream",
     "text": [
      "60900.200000000004\n"
     ]
    }
   ],
   "source": [
    "# Print the current balance of the stock and bond portion of the members portfolio\n",
    "print(total_stocks_bonds)\n"
   ]
  },
  {
   "cell_type": "code",
   "execution_count": 183,
   "metadata": {},
   "outputs": [
    {
     "name": "stdout",
     "output_type": "stream",
     "text": [
      "141543.22\n"
     ]
    },
    {
     "data": {
      "text/plain": [
       "None"
      ]
     },
     "metadata": {},
     "output_type": "display_data"
    },
    {
     "name": "stdout",
     "output_type": "stream",
     "text": [
      "2476257.2\n"
     ]
    },
    {
     "data": {
      "text/plain": [
       "None"
      ]
     },
     "metadata": {},
     "output_type": "display_data"
    }
   ],
   "source": [
    "# Use the lower and upper `95%` confidence intervals to calculate the range of the possible outcomes for the current stock/bond portfolio\n",
    "ci_lower_thirty_cumulative_return = round(summary_stats[8]*total_stocks_bonds,2)\n",
    "ci_upper_thirty_cumulative_return = round(summary_stats[9]*total_stocks_bonds,2)\n",
    "\n",
    "# Print the result of your calculations\n",
    "display(print(ci_lower_thirty_cumulative_return))\n",
    "display(print(ci_upper_thirty_cumulative_return))\n"
   ]
  },
  {
   "cell_type": "markdown",
   "metadata": {},
   "source": [
    "### Forecast Cumulative Returns in 10 Years\n",
    "\n",
    "The CTO of the credit union is impressed with your work on these planning tools but wonders if 30 years is a long time to wait until retirement. So, your next task is to adjust the retirement portfolio and run a new Monte Carlo simulation to find out if the changes will allow members to retire earlier.\n",
    "\n",
    "For this new Monte Carlo simulation, do the following: \n",
    "\n",
    "- Forecast the cumulative returns for 10 years from now. Because of the shortened investment horizon (30 years to 10 years), the portfolio needs to invest more heavily in the riskier asset&mdash;that is, stock&mdash;to help accumulate wealth for retirement. \n",
    "\n",
    "- Adjust the weights of the retirement portfolio so that the composition for the Monte Carlo simulation consists of 20% bonds and 80% stocks. \n",
    "\n",
    "- Run the simulation over 500 samples, and use the same data that the API call to Alpaca generated.\n",
    "\n",
    "- Based on the new Monte Carlo simulation, answer the following questions in your Jupyter notebook:\n",
    "\n",
    "    - Using the current value of only the stock and bond portion of the member's portfolio and the summary statistics that you generated from the new Monte Carlo simulation, what are the lower and upper bounds for the expected value of the portfolio (with the new weights) with a 95% confidence interval?\n",
    "\n",
    "    - Will weighting the portfolio more heavily toward stocks allow the credit union members to retire after only 10 years?\n"
   ]
  },
  {
   "cell_type": "code",
   "execution_count": 184,
   "metadata": {},
   "outputs": [
    {
     "data": {
      "text/html": [
       "<div>\n",
       "<style scoped>\n",
       "    .dataframe tbody tr th:only-of-type {\n",
       "        vertical-align: middle;\n",
       "    }\n",
       "\n",
       "    .dataframe tbody tr th {\n",
       "        vertical-align: top;\n",
       "    }\n",
       "\n",
       "    .dataframe thead tr th {\n",
       "        text-align: left;\n",
       "    }\n",
       "\n",
       "    .dataframe thead tr:last-of-type th {\n",
       "        text-align: right;\n",
       "    }\n",
       "</style>\n",
       "<table border=\"1\" class=\"dataframe\">\n",
       "  <thead>\n",
       "    <tr>\n",
       "      <th></th>\n",
       "      <th colspan=\"6\" halign=\"left\">AGG</th>\n",
       "      <th colspan=\"6\" halign=\"left\">SPY</th>\n",
       "    </tr>\n",
       "    <tr>\n",
       "      <th></th>\n",
       "      <th>open</th>\n",
       "      <th>high</th>\n",
       "      <th>low</th>\n",
       "      <th>close</th>\n",
       "      <th>volume</th>\n",
       "      <th>daily_return</th>\n",
       "      <th>open</th>\n",
       "      <th>high</th>\n",
       "      <th>low</th>\n",
       "      <th>close</th>\n",
       "      <th>volume</th>\n",
       "      <th>daily_return</th>\n",
       "    </tr>\n",
       "    <tr>\n",
       "      <th>time</th>\n",
       "      <th></th>\n",
       "      <th></th>\n",
       "      <th></th>\n",
       "      <th></th>\n",
       "      <th></th>\n",
       "      <th></th>\n",
       "      <th></th>\n",
       "      <th></th>\n",
       "      <th></th>\n",
       "      <th></th>\n",
       "      <th></th>\n",
       "      <th></th>\n",
       "    </tr>\n",
       "  </thead>\n",
       "  <tbody>\n",
       "    <tr>\n",
       "      <th>2017-09-14 00:00:00-04:00</th>\n",
       "      <td>109.81</td>\n",
       "      <td>109.9700</td>\n",
       "      <td>109.8100</td>\n",
       "      <td>109.93</td>\n",
       "      <td>1485053</td>\n",
       "      <td>NaN</td>\n",
       "      <td>249.79</td>\n",
       "      <td>250.32</td>\n",
       "      <td>249.60</td>\n",
       "      <td>250.10</td>\n",
       "      <td>40831958</td>\n",
       "      <td>NaN</td>\n",
       "    </tr>\n",
       "    <tr>\n",
       "      <th>2017-09-15 00:00:00-04:00</th>\n",
       "      <td>110.00</td>\n",
       "      <td>110.0400</td>\n",
       "      <td>109.8600</td>\n",
       "      <td>109.92</td>\n",
       "      <td>2638010</td>\n",
       "      <td>-0.000091</td>\n",
       "      <td>248.69</td>\n",
       "      <td>249.29</td>\n",
       "      <td>248.57</td>\n",
       "      <td>249.25</td>\n",
       "      <td>41676476</td>\n",
       "      <td>-0.003399</td>\n",
       "    </tr>\n",
       "    <tr>\n",
       "      <th>2017-09-18 00:00:00-04:00</th>\n",
       "      <td>109.86</td>\n",
       "      <td>109.9000</td>\n",
       "      <td>109.7705</td>\n",
       "      <td>109.85</td>\n",
       "      <td>1621727</td>\n",
       "      <td>-0.000637</td>\n",
       "      <td>249.61</td>\n",
       "      <td>250.12</td>\n",
       "      <td>249.28</td>\n",
       "      <td>249.69</td>\n",
       "      <td>31002452</td>\n",
       "      <td>0.001765</td>\n",
       "    </tr>\n",
       "    <tr>\n",
       "      <th>2017-09-19 00:00:00-04:00</th>\n",
       "      <td>109.91</td>\n",
       "      <td>109.9100</td>\n",
       "      <td>109.7850</td>\n",
       "      <td>109.82</td>\n",
       "      <td>1220416</td>\n",
       "      <td>-0.000273</td>\n",
       "      <td>250.00</td>\n",
       "      <td>250.07</td>\n",
       "      <td>249.60</td>\n",
       "      <td>249.97</td>\n",
       "      <td>25491201</td>\n",
       "      <td>0.001121</td>\n",
       "    </tr>\n",
       "    <tr>\n",
       "      <th>2017-09-20 00:00:00-04:00</th>\n",
       "      <td>109.84</td>\n",
       "      <td>109.9194</td>\n",
       "      <td>109.5900</td>\n",
       "      <td>109.70</td>\n",
       "      <td>1216139</td>\n",
       "      <td>-0.001093</td>\n",
       "      <td>250.06</td>\n",
       "      <td>250.19</td>\n",
       "      <td>248.92</td>\n",
       "      <td>250.09</td>\n",
       "      <td>42770537</td>\n",
       "      <td>0.000480</td>\n",
       "    </tr>\n",
       "  </tbody>\n",
       "</table>\n",
       "</div>"
      ],
      "text/plain": [
       "                              AGG                                       \\\n",
       "                             open      high       low   close   volume   \n",
       "time                                                                     \n",
       "2017-09-14 00:00:00-04:00  109.81  109.9700  109.8100  109.93  1485053   \n",
       "2017-09-15 00:00:00-04:00  110.00  110.0400  109.8600  109.92  2638010   \n",
       "2017-09-18 00:00:00-04:00  109.86  109.9000  109.7705  109.85  1621727   \n",
       "2017-09-19 00:00:00-04:00  109.91  109.9100  109.7850  109.82  1220416   \n",
       "2017-09-20 00:00:00-04:00  109.84  109.9194  109.5900  109.70  1216139   \n",
       "\n",
       "                                           SPY                          \\\n",
       "                          daily_return    open    high     low   close   \n",
       "time                                                                     \n",
       "2017-09-14 00:00:00-04:00          NaN  249.79  250.32  249.60  250.10   \n",
       "2017-09-15 00:00:00-04:00    -0.000091  248.69  249.29  248.57  249.25   \n",
       "2017-09-18 00:00:00-04:00    -0.000637  249.61  250.12  249.28  249.69   \n",
       "2017-09-19 00:00:00-04:00    -0.000273  250.00  250.07  249.60  249.97   \n",
       "2017-09-20 00:00:00-04:00    -0.001093  250.06  250.19  248.92  250.09   \n",
       "\n",
       "                                                  \n",
       "                             volume daily_return  \n",
       "time                                              \n",
       "2017-09-14 00:00:00-04:00  40831958          NaN  \n",
       "2017-09-15 00:00:00-04:00  41676476    -0.003399  \n",
       "2017-09-18 00:00:00-04:00  31002452     0.001765  \n",
       "2017-09-19 00:00:00-04:00  25491201     0.001121  \n",
       "2017-09-20 00:00:00-04:00  42770537     0.000480  "
      ]
     },
     "execution_count": 184,
     "metadata": {},
     "output_type": "execute_result"
    }
   ],
   "source": [
    "# Configure a Monte Carlo simulation to forecast 10 years cumulative returns\n",
    "# The weights should be split 20% to AGG and 80% to SPY.\n",
    "# Run 500 samples.\n",
    "ten_year_simulation = MCSimulation(\n",
    "    portfolio_data=df_portfolio,\n",
    "    weights=[0.20, 0.80],\n",
    "    num_simulation=500,\n",
    "    num_trading_days=252*10,\n",
    ")\n",
    "\n",
    "\n",
    "\n",
    "# Review the simulation input data\n",
    "ten_year_simulation.portfolio_data.head()\n"
   ]
  },
  {
   "cell_type": "code",
   "execution_count": null,
   "metadata": {},
   "outputs": [
    {
     "name": "stdout",
     "output_type": "stream",
     "text": [
      "Running Monte Carlo simulation number 0.\n",
      "Running Monte Carlo simulation number 10.\n",
      "Running Monte Carlo simulation number 20.\n",
      "Running Monte Carlo simulation number 30.\n",
      "Running Monte Carlo simulation number 40.\n",
      "Running Monte Carlo simulation number 50.\n",
      "Running Monte Carlo simulation number 60.\n",
      "Running Monte Carlo simulation number 70.\n",
      "Running Monte Carlo simulation number 80.\n",
      "Running Monte Carlo simulation number 90.\n",
      "Running Monte Carlo simulation number 100.\n",
      "Running Monte Carlo simulation number 110.\n",
      "Running Monte Carlo simulation number 120.\n",
      "Running Monte Carlo simulation number 130.\n",
      "Running Monte Carlo simulation number 140.\n",
      "Running Monte Carlo simulation number 150.\n",
      "Running Monte Carlo simulation number 160.\n",
      "Running Monte Carlo simulation number 170.\n",
      "Running Monte Carlo simulation number 180.\n",
      "Running Monte Carlo simulation number 190.\n",
      "Running Monte Carlo simulation number 200.\n",
      "Running Monte Carlo simulation number 210.\n",
      "Running Monte Carlo simulation number 220.\n",
      "Running Monte Carlo simulation number 230.\n",
      "Running Monte Carlo simulation number 240.\n",
      "Running Monte Carlo simulation number 250.\n",
      "Running Monte Carlo simulation number 260.\n",
      "Running Monte Carlo simulation number 270.\n",
      "Running Monte Carlo simulation number 280.\n",
      "Running Monte Carlo simulation number 290.\n",
      "Running Monte Carlo simulation number 300.\n",
      "Running Monte Carlo simulation number 310.\n",
      "Running Monte Carlo simulation number 320.\n"
     ]
    }
   ],
   "source": [
    "# Run the Monte Carlo simulation to forecast 10 years cumulative returns\n",
    "ten_year_simulation.calc_cumulative_return()\n"
   ]
  },
  {
   "cell_type": "code",
   "execution_count": 142,
   "metadata": {},
   "outputs": [
    {
     "data": {
      "text/plain": [
       "<AxesSubplot:title={'center':'500 Simulations of Cumulative Portfolio Return Trajectories Over the Next 2520 Trading Days.'}>"
      ]
     },
     "execution_count": 142,
     "metadata": {},
     "output_type": "execute_result"
    },
    {
     "data": {
      "image/png": "[encoded data removed]",
      "text/plain": [
       "<Figure size 432x288 with 1 Axes>"
      ]
     },
     "metadata": {
      "needs_background": "light"
     },
     "output_type": "display_data"
    }
   ],
   "source": [
    "# Visualize the 10-year Monte Carlo simulation by creating an\n",
    "# overlay line plot\n",
    "ten_year_simulation.plot_simulation()\n"
   ]
  },
  {
   "cell_type": "code",
   "execution_count": 143,
   "metadata": {},
   "outputs": [
    {
     "data": {
      "text/plain": [
       "<AxesSubplot:title={'center':'Distribution of Final Cumuluative Returns Across All 500 Simulations'}, ylabel='Frequency'>"
      ]
     },
     "execution_count": 143,
     "metadata": {},
     "output_type": "execute_result"
    },
    {
     "data": {
      "image/png": "[encoded data removed]",
      "text/plain": [
       "<Figure size 432x288 with 1 Axes>"
      ]
     },
     "metadata": {
      "needs_background": "light"
     },
     "output_type": "display_data"
    }
   ],
   "source": [
    "# Visualize the probability distribution of the 10-year Monte Carlo simulation \n",
    "# by plotting a histogram\n",
    "ten_year_simulation.plot_distribution()\n"
   ]
  },
  {
   "cell_type": "code",
   "execution_count": 144,
   "metadata": {},
   "outputs": [
    {
     "name": "stdout",
     "output_type": "stream",
     "text": [
      "count           500.000000\n",
      "mean              2.825070\n",
      "std               1.777730\n",
      "min               0.495357\n",
      "25%               1.605516\n",
      "50%               2.408617\n",
      "75%               3.486099\n",
      "max              17.804989\n",
      "95% CI Lower      0.841185\n",
      "95% CI Upper      7.002606\n",
      "Name: 2520, dtype: float64\n"
     ]
    }
   ],
   "source": [
    "# Generate summary statistics from the 10-year Monte Carlo simulation results\n",
    "# Save the results as a variable\n",
    "summary_stats2 = ten_year_simulation.summarize_cumulative_return()\n",
    "\n",
    "\n",
    "# Review the 10-year Monte Carlo summary statistics\n",
    "print(summary_stats2)"
   ]
  },
  {
   "cell_type": "markdown",
   "metadata": {},
   "source": [
    "### Answer the following questions:"
   ]
  },
  {
   "cell_type": "markdown",
   "metadata": {},
   "source": [
    "#### Question: Using the current value of only the stock and bond portion of the member's portfolio and the summary statistics that you generated from the new Monte Carlo simulation, what are the lower and upper bounds for the expected value of the portfolio (with the new weights) with a 95% confidence interval?"
   ]
  },
  {
   "cell_type": "code",
   "execution_count": 145,
   "metadata": {},
   "outputs": [
    {
     "name": "stdout",
     "output_type": "stream",
     "text": [
      "60900.200000000004\n"
     ]
    }
   ],
   "source": [
    "# Print the current balance of the stock and bond portion of the members portfolio\n",
    "print(total_stocks_bonds)\n"
   ]
  },
  {
   "cell_type": "code",
   "execution_count": 146,
   "metadata": {},
   "outputs": [
    {
     "name": "stdout",
     "output_type": "stream",
     "text": [
      "51228.31\n"
     ]
    },
    {
     "data": {
      "text/plain": [
       "None"
      ]
     },
     "metadata": {},
     "output_type": "display_data"
    },
    {
     "name": "stdout",
     "output_type": "stream",
     "text": [
      "426460.1\n"
     ]
    },
    {
     "data": {
      "text/plain": [
       "None"
      ]
     },
     "metadata": {},
     "output_type": "display_data"
    }
   ],
   "source": [
    "# Use the lower and upper `95%` confidence intervals to calculate the range of the possible outcomes for the current stock/bond portfolio\n",
    "ci_lower_ten_cumulative_return = round(summary_stats2[8]*total_stocks_bonds,2)\n",
    "ci_upper_ten_cumulative_return = round(summary_stats2[9]*total_stocks_bonds,2)\n",
    "\n",
    "# Print the result of your calculations\n",
    "display(print(ci_lower_ten_cumulative_return))\n",
    "display(print(ci_upper_ten_cumulative_return))\n"
   ]
  },
  {
   "cell_type": "markdown",
   "metadata": {},
   "source": [
    "#### Question: Will weighting the portfolio more heavily to stocks allow the credit union members to retire after only 10 years?"
   ]
  },
  {
   "cell_type": "raw",
   "metadata": {},
   "source": [
    "**Answer** Changing the portfolio weight likely will not allow the union members to retire early - the returns are not high enough despite moving $ to the riskier asset with higher historical returns."
   ]
  },
  {
   "cell_type": "code",
   "execution_count": null,
   "metadata": {},
   "outputs": [],
   "source": []
  }
 ],
 "metadata": {
  "kernelspec": {
   "display_name": "dev",
   "language": "python",
   "name": "dev"
  },
  "language_info": {
   "codemirror_mode": {
    "name": "ipython",
    "version": 3
   },
   "file_extension": ".py",
   "mimetype": "text/x-python",
   "name": "python",
   "nbconvert_exporter": "python",
   "pygments_lexer": "ipython3",
   "version": "3.7.10"
  }
 },
 "nbformat": 4,
 "nbformat_minor": 4
}
